{
 "cells": [
  {
   "cell_type": "code",
   "execution_count": 1,
   "metadata": {},
   "outputs": [],
   "source": [
    "from matplotlib import pyplot\n",
    "#2x+y\n",
    "# Data de ejemplo\n",
    "# f_obj = [2,1]\n",
    "# ineq = [[2,0],[3,1],[0,3],[0,1]]\n",
    "# ineq_s = [0,1,0,1]\n",
    "# ineq_r = [20,5,8,2]\n"
   ]
  },
  {
   "cell_type": "markdown",
   "metadata": {},
   "source": [
    "## Recopilar datos"
   ]
  },
  {
   "cell_type": "code",
   "execution_count": 2,
   "metadata": {},
   "outputs": [],
   "source": [
    "def extract_eq(eq_str):\n",
    "    \n",
    "    eq_str = eq_str.split()\n",
    "    #print(eq_str)\n",
    "    a = 0\n",
    "    b = 0\n",
    "    s = 0\n",
    "    r = 0\n",
    "    for i in range(len(eq_str)):\n",
    "        if \"x\" in eq_str[i]:\n",
    "            if eq_str[i]== \"x\":\n",
    "                a = 1\n",
    "            else:\n",
    "                a = int(eq_str[i][0:len(eq_str[i])-1])\n",
    "\n",
    "        if \"y\" in eq_str[i]:\n",
    "            if eq_str[i]== \"y\":\n",
    "                b = 1\n",
    "            else:\n",
    "                b = int(eq_str[i][0:len(eq_str[i])-1])\n",
    "\n",
    "        if \"<=\" in eq_str[i]:\n",
    "            s = 0\n",
    "\n",
    "        if \">=\" in eq_str[i]:\n",
    "            s = 1\n",
    "\n",
    "        if \"<=\" in eq_str[i] or \">=\" in eq_str[i]:\n",
    "            r = int(eq_str[i+1])\n",
    "            \n",
    "    print(\"extract: {}, {} ,{} ,{}\".format(a , b , s, r))\n",
    "    return a , b , s, r\n",
    "\n"
   ]
  },
  {
   "cell_type": "code",
   "execution_count": 3,
   "metadata": {},
   "outputs": [],
   "source": [
    "def input_data():\n",
    "    f_obj = []\n",
    "    ineq  = []\n",
    "    ineq_s = [] \n",
    "    ineq_r = []\n",
    "    obj_a = int(input(\"Según la funcion objetivo ax+by introduce a:\"))\n",
    "    obj_b = int(input(\"Según la funcion objetivo ax+by introduce b:\"))\n",
    "    f_obj = [obj_a,obj_b]\n",
    "    n = int(input(\"Cuantas inecuaciones desea ingresar [3,8]\"))\n",
    "    for i in range(n):\n",
    "        print(\"Inequacion Número {}:\".format(i+1))\n",
    "        \n",
    "        inequation = input(\"Ingrese inecuación: (Ej: 2x + 3y <= 4 o 10x + 2y >= 4)\")\n",
    "        \n",
    "        a , b , s ,r = extract_eq(inequation)\n",
    "        #print(\"Valores obtenidos:\")\n",
    "        #print(a,b,s,r)\n",
    "        ineq.append([a,b])\n",
    "        ineq_s.append(s)\n",
    "        ineq_r.append(r)\n",
    "        \n",
    "    return f_obj , ineq , ineq_s , ineq_r\n",
    "\n",
    "\n",
    "\n"
   ]
  },
  {
   "cell_type": "markdown",
   "metadata": {},
   "source": [
    "## Representar la inecuacion como un string según los datos recopilados"
   ]
  },
  {
   "cell_type": "code",
   "execution_count": 4,
   "metadata": {},
   "outputs": [],
   "source": [
    "#Según los datos recogidos te grafica el array\n",
    "def create_label(a , b , s , r):\n",
    "    print(a,b,s,r)\n",
    "    ineq_label = \"\" \n",
    "    \n",
    "    if a == 1:\n",
    "        ineq_label = ineq_label + \"x\"\n",
    "    elif a > 1:\n",
    "        ineq_label = ineq_label + \"{}x\".format(a)\n",
    "    if 0< a and 0 <b:\n",
    "        ineq_label = ineq_label + \" + \"\n",
    "    if b == 1:\n",
    "        ineq_label = ineq_label + \"y\"\n",
    "    elif b > 1: \n",
    "        ineq_label = ineq_label + \"{}y\".format(b)\n",
    "    \n",
    "    if s:\n",
    "        symbol = \" >= \"\n",
    "    else:\n",
    "        symbol = \" <= \"\n",
    "    \n",
    "    ineq_label += symbol\n",
    "    ineq_label += \"{}\".format(r)\n",
    "    \n",
    "        \n",
    "    return ineq_label"
   ]
  },
  {
   "cell_type": "markdown",
   "metadata": {},
   "source": [
    "## Dibujar inecaciones"
   ]
  },
  {
   "cell_type": "code",
   "execution_count": 5,
   "metadata": {},
   "outputs": [],
   "source": [
    "def graph_inec(ineq,ineq_r,ineq_s):\n",
    "    for i , r , s in zip(ineq,ineq_r,ineq_s):\n",
    "        l=10\n",
    "        #print(i,r)\n",
    "        x=i[0]\n",
    "        y=i[1]\n",
    "        if x != 0 and y!=0:\n",
    "            px= [r/x,0]\n",
    "            py = [0,r/y]\n",
    "        elif x!=0:\n",
    "            px= [r/x,r/x]\n",
    "            py = [0,l]\n",
    "        elif y != 0:\n",
    "            px = [0,l]\n",
    "            py = [r/y,r/y]\n",
    "            \n",
    "        \n",
    "        equation = create_label(i[0],i[1],s,r)\n",
    "        \n",
    "        pyplot.plot(px,py, label=equation)\n",
    "    pyplot.legend(bbox_to_anchor=(1.05, 1), loc='upper left', borderaxespad=0.)"
   ]
  },
  {
   "cell_type": "code",
   "execution_count": 11,
   "metadata": {},
   "outputs": [
    {
     "name": "stdin",
     "output_type": "stream",
     "text": [
      "Según la funcion objetivo ax+by introduce a: 4\n",
      "Según la funcion objetivo ax+by introduce b: 5\n",
      "Cuantas inecuaciones desea ingresar [3,8] 2\n"
     ]
    },
    {
     "name": "stdout",
     "output_type": "stream",
     "text": [
      "Inequacion Número 1:\n"
     ]
    },
    {
     "name": "stdin",
     "output_type": "stream",
     "text": [
      "Ingrese inecuación: (Ej: 2x + 3y =< 4 o 10x + 2y >= 4) x + y <= 20\n"
     ]
    },
    {
     "name": "stdout",
     "output_type": "stream",
     "text": [
      "extract: 1, 1 ,0 ,20\n",
      "Inequacion Número 2:\n"
     ]
    },
    {
     "name": "stdin",
     "output_type": "stream",
     "text": [
      "Ingrese inecuación: (Ej: 2x + 3y =< 4 o 10x + 2y >= 4) 3x + 4y <= 72\n"
     ]
    },
    {
     "name": "stdout",
     "output_type": "stream",
     "text": [
      "extract: 3, 4 ,0 ,72\n",
      "1 1 0 20\n",
      "3 4 0 72\n"
     ]
    },
    {
     "data": {
      "image/png": "[encoded data removed]",
      "text/plain": [
       "<Figure size 432x288 with 1 Axes>"
      ]
     },
     "metadata": {
      "needs_background": "light"
     },
     "output_type": "display_data"
    }
   ],
   "source": [
    "# Data de ejemplo\n",
    "# f_obj = [2,1]    2x + y\n",
    "\n",
    "# 2x <= 20\n",
    "# 3x + y >= 5\n",
    "# 3y <= 8\n",
    "# y >= 2\n",
    "\n",
    "\n",
    "# ineq = [[2,0],[3,1],[0,3],[0,1]]  \n",
    "# ineq_s = [0,1,0,1]\n",
    "# ineq_r = [20,5,8,2]\n",
    "\n",
    "f_obj , ineq , ineq_s ,ineq_r = input_data()\n",
    "\n",
    "\n",
    "graph_inec(ineq,ineq_r,ineq_s)"
   ]
  },
  {
   "cell_type": "code",
   "execution_count": 17,
   "metadata": {},
   "outputs": [
    {
     "name": "stdout",
     "output_type": "stream",
     "text": [
      "2 0 0 20\n",
      "3 1 1 5\n",
      "0 3 0 8\n",
      "0 1 1 2\n"
     ]
    },
    {
     "data": {
      "image/png": "[encoded data removed]",
      "text/plain": [
       "<Figure size 432x288 with 1 Axes>"
      ]
     },
     "metadata": {
      "needs_background": "light"
     },
     "output_type": "display_data"
    }
   ],
   "source": [
    "# ineq = [[2,0],[3,1],[0,3],[0,1]]  \n",
    "# ineq_s = [0,1,0,1]\n",
    "# ineq_r = [20,5,8,2]\n",
    "# graph_inec(ineq,ineq_r,ineq_s)"
   ]
  },
  {
   "cell_type": "markdown",
   "metadata": {},
   "source": [
    "## Encontrar puntos de intersección"
   ]
  },
  {
   "cell_type": "code",
   "execution_count": 24,
   "metadata": {},
   "outputs": [
    {
     "name": "stdout",
     "output_type": "stream",
     "text": [
      "2 2 0 20\n",
      "0 3 1 9\n"
     ]
    },
    {
     "data": {
      "image/png": "[encoded data removed]",
      "text/plain": [
       "<Figure size 432x288 with 1 Axes>"
      ]
     },
     "metadata": {
      "needs_background": "light"
     },
     "output_type": "display_data"
    }
   ],
   "source": [
    "i = [[2,2],[0,3]]\n",
    "ir = [20,9]\n",
    "s = [0,1]\n",
    "graph_inec(i,ir,s)"
   ]
  },
  {
   "cell_type": "code",
   "execution_count": 15,
   "metadata": {},
   "outputs": [],
   "source": [
    "def intersection(L1, L2, R1, R2):\n",
    "    D  = L1[0] * L2[1] - L1[1] * L2[0]\n",
    "    Dx = R1 * L2[1] - L1[1] * R2\n",
    "    Dy = L1[0] * R2 - R1 * L2[0]\n",
    "    if D != 0:\n",
    "        x = Dx / D\n",
    "        y = Dy / D\n",
    "        return x,y\n",
    "    else:\n",
    "        return False"
   ]
  },
  {
   "cell_type": "code",
   "execution_count": 27,
   "metadata": {},
   "outputs": [
    {
     "name": "stdout",
     "output_type": "stream",
     "text": [
      "2 2 0 20\n",
      "0 3 1 9\n"
     ]
    },
    {
     "data": {
      "text/plain": [
       "[<matplotlib.lines.Line2D at 0x7fa2078bbee0>]"
      ]
     },
     "execution_count": 27,
     "metadata": {},
     "output_type": "execute_result"
    },
    {
     "data": {
      "image/png": "[encoded data removed]",
      "text/plain": [
       "<Figure size 432x288 with 1 Axes>"
      ]
     },
     "metadata": {
      "needs_background": "light"
     },
     "output_type": "display_data"
    }
   ],
   "source": [
    "graph_inec(i,ir,s)\n",
    "R = intersection([2,2],[0,3],20,9)\n",
    "pyplot.plot(R[0],R[1],'ro')"
   ]
  },
  {
   "cell_type": "code",
   "execution_count": 75,
   "metadata": {},
   "outputs": [],
   "source": [
    "def graph_inter(ineq,ineq_r):\n",
    "    interX = []\n",
    "    interY = []\n",
    "    inter = []\n",
    "    for ine1 , r1 in zip(ineq,ineq_r):\n",
    "        for ine2 , r2 in zip(ineq,ineq_r):\n",
    "            R = intersection(ine1,ine2,r1,r2)\n",
    "            if R and R[0]>0 and R[1]>0:\n",
    "                if [R[0],R[1]] not in inter:\n",
    "                    interX.append(R[0])\n",
    "                    interY.append(R[1])\n",
    "                    inter.append([R[0],R[1]])\n",
    "    for ine1 , r1 in zip(ineq,ineq_r):\n",
    "#         print(ine1,r1)\n",
    "        if ine1[0] != 0:\n",
    "            interX.append(r1/ine1[0])\n",
    "            interY.append(0)\n",
    "            inter.append([r1/ine1[0],0])\n",
    "        if ine1[1] != 0:\n",
    "            interY.append(r1/ine1[1])\n",
    "            interX.append(0)\n",
    "            inter.append([0,r1/ine1[1]])\n",
    "    \n",
    "    interX.append(0)\n",
    "    interY.append(0)\n",
    "    inter.append([0,0])\n",
    "    pyplot.plot(interX,interY,'ro')\n",
    "    return interX,interY , inter"
   ]
  },
  {
   "cell_type": "code",
   "execution_count": 196,
   "metadata": {},
   "outputs": [
    {
     "name": "stdout",
     "output_type": "stream",
     "text": [
      "5 4 0 27000\n",
      "5 15 0 43200\n"
     ]
    },
    {
     "data": {
      "image/png": "[encoded data removed]",
      "text/plain": [
       "<Figure size 432x288 with 1 Axes>"
      ]
     },
     "metadata": {
      "needs_background": "light"
     },
     "output_type": "display_data"
    }
   ],
   "source": [
    "# ineq = [[2,4],[3,0],[0,3],[0,1]]   \n",
    "# ineq_r = [20,5,8,2]\n",
    "# ineq_s = [1,0,1,1]\n",
    "\n",
    "\n",
    "# ineq = [[1,1],[3,4]]   \n",
    "# ineq_r = [20,72]\n",
    "# ineq_s = [0,0]\n",
    "\n",
    "ineq = [[5,4],[5,15]]   \n",
    "ineq_r = [27000,43200]\n",
    "ineq_s = [0,0]\n",
    "\n",
    "interX,interY , inter = graph_inter(ineq,ineq_r)\n",
    "graph_inec(ineq,ineq_r,ineq_s)"
   ]
  },
  {
   "cell_type": "code",
   "execution_count": 197,
   "metadata": {},
   "outputs": [
    {
     "data": {
      "text/plain": [
       "[[4221.818181818182, 1472.7272727272727],\n",
       " [5400.0, 0],\n",
       " [0, 6750.0],\n",
       " [8640.0, 0],\n",
       " [0, 2880.0],\n",
       " [0, 0]]"
      ]
     },
     "execution_count": 197,
     "metadata": {},
     "output_type": "execute_result"
    }
   ],
   "source": [
    "inter"
   ]
  },
  {
   "cell_type": "markdown",
   "metadata": {},
   "source": [
    "## TODO: \n",
    "- [x] Una función que le des la inecuación en texto ej: 2x+3y>=20 y te devuelva [2,3] [20] [0].**El =< , >= se representarían como [0,1]**\n",
    "- [x] Representar el menor igual y mayor igual (>= , <=) en las inecuaciones lineales\n",
    "- [x] Determinar la region probando las intersecciónes en todas las inecuaciones. Si es falso esa intersección no pertenece a la región "
   ]
  },
  {
   "cell_type": "code",
   "execution_count": 201,
   "metadata": {},
   "outputs": [],
   "source": [
    "def comprobar_region(ineq,ineq_r,ineq_s,inter):\n",
    "    interR = []\n",
    "    for i in inter:\n",
    "        valido = True\n",
    "        for ine,r,s in zip(ineq,ineq_r,ineq_s):\n",
    "            p = int((ine[0]*i[0]) + (ine[1]*i[1]))\n",
    "            #print(p)\n",
    "            if s == 0:\n",
    "                if p <= r:\n",
    "                    pass\n",
    "                else:\n",
    "                    print(p,\" \",r)\n",
    "                    valido = False\n",
    "            if s == 1:\n",
    "                if p >=r:\n",
    "                    pass\n",
    "                else:\n",
    "                    valido =False\n",
    "                    print(p,\" \",r,\">=\")\n",
    "                \n",
    "        if valido:\n",
    "            interR.append([int(i[0]),int(i[1])])\n",
    "            #interR.append([int(i[0]),int([1])])\n",
    "    \n",
    "    \n",
    "    return interR"
   ]
  },
  {
   "cell_type": "code",
   "execution_count": 202,
   "metadata": {},
   "outputs": [
    {
     "data": {
      "text/plain": [
       "[[4221, 1472], [5400, 0], [0, 2880], [0, 0]]"
      ]
     },
     "execution_count": 202,
     "metadata": {},
     "output_type": "execute_result"
    }
   ],
   "source": [
    "inter"
   ]
  },
  {
   "cell_type": "code",
   "execution_count": 203,
   "metadata": {},
   "outputs": [],
   "source": [
    "inter = comprobar_region(ineq,ineq_r,ineq_s,inter)"
   ]
  },
  {
   "cell_type": "code",
   "execution_count": 204,
   "metadata": {},
   "outputs": [
    {
     "data": {
      "text/plain": [
       "[[4221, 1472], [5400, 0], [0, 2880], [0, 0]]"
      ]
     },
     "execution_count": 204,
     "metadata": {},
     "output_type": "execute_result"
    }
   ],
   "source": [
    "inter"
   ]
  },
  {
   "cell_type": "code",
   "execution_count": 219,
   "metadata": {},
   "outputs": [],
   "source": [
    "def max_obj(obj,inter):\n",
    "    maximo = 0\n",
    "    for i in inter:\n",
    "        m = obj[0]*i[0] + obj[1]*i[1]\n",
    "        if m> maximo:\n",
    "            maximo = m\n",
    "            intersect = [i[0],i[1]]\n",
    "    return maximo,intersect\n",
    "def min_obj(obj,inter):\n",
    "    minimo = 100000000\n",
    "    for i in inter:\n",
    "        m = obj[0]*i[0] + obj[1]*i[1]\n",
    "        if m< minimo:\n",
    "            minimo = m\n",
    "            intersect = [i[0],i[1]]\n",
    "    return minimo,intersect\n",
    "        \n",
    "    "
   ]
  },
  {
   "cell_type": "code",
   "execution_count": 220,
   "metadata": {},
   "outputs": [],
   "source": [
    "m, i = min_obj([20,18],inter)"
   ]
  },
  {
   "cell_type": "code",
   "execution_count": 221,
   "metadata": {},
   "outputs": [
    {
     "data": {
      "text/plain": [
       "(0, [0, 0])"
      ]
     },
     "execution_count": 221,
     "metadata": {},
     "output_type": "execute_result"
    }
   ],
   "source": [
    "m,i"
   ]
  },
  {
   "cell_type": "code",
   "execution_count": 213,
   "metadata": {},
   "outputs": [
    {
     "data": {
      "text/plain": [
       "13"
      ]
     },
     "execution_count": 213,
     "metadata": {},
     "output_type": "execute_result"
    }
   ],
   "source": [
    "round(12.544)"
   ]
  },
  {
   "cell_type": "code",
   "execution_count": 226,
   "metadata": {},
   "outputs": [],
   "source": [
    "def linearp(q):\n",
    "    f_obj , ineq , ineq_s ,ineq_r = input_data()\n",
    "    graph_inec(ineq,ineq_r,ineq_s)\n",
    "    interX,interY , inter = graph_inter(ineq,ineq_r)\n",
    "    inter = comprobar_region(ineq,ineq_r,ineq_s,inter)\n",
    "    max_obj, max_coord = min_obj(f_obj,inter)\n",
    "    min_obj, min_coord = max_obj(f_obj,inter)\n",
    "    pyplot.title(\"Gráfica de las indecuaciones\")\n",
    "    return m,i\n",
    "    \n",
    "    "
   ]
  },
  {
   "cell_type": "code",
   "execution_count": 229,
   "metadata": {},
   "outputs": [
    {
     "name": "stdin",
     "output_type": "stream",
     "text": [
      "Según la funcion objetivo ax+by introduce a: 2\n",
      "Según la funcion objetivo ax+by introduce b: 3\n",
      "Cuantas inecuaciones desea ingresar [3,8] 2\n"
     ]
    },
    {
     "name": "stdout",
     "output_type": "stream",
     "text": [
      "Inequacion Número 1:\n"
     ]
    },
    {
     "name": "stdin",
     "output_type": "stream",
     "text": [
      "Ingrese inecuación: (Ej: 2x + 3y =< 4 o 10x + 2y >= 4) 3x + 6y >= 24\n"
     ]
    },
    {
     "name": "stdout",
     "output_type": "stream",
     "text": [
      "extract: 3, 6 ,1 ,24\n",
      "Inequacion Número 2:\n"
     ]
    },
    {
     "name": "stdin",
     "output_type": "stream",
     "text": [
      "Ingrese inecuación: (Ej: 2x + 3y =< 4 o 10x + 2y >= 4) 3x + y >= 9\n"
     ]
    },
    {
     "name": "stdout",
     "output_type": "stream",
     "text": [
      "extract: 3, 1 ,1 ,9\n",
      "3 6 1 24\n",
      "3 1 1 9\n",
      "4   9 >=\n",
      "9   24 >=\n",
      "0   24 >=\n",
      "0   9 >=\n"
     ]
    },
    {
     "data": {
      "text/plain": [
       "(13, [2, 3])"
      ]
     },
     "execution_count": 229,
     "metadata": {},
     "output_type": "execute_result"
    },
    {
     "data": {
      "image/png": "[encoded data removed]",
      "text/plain": [
       "<Figure size 432x288 with 1 Axes>"
      ]
     },
     "metadata": {
      "needs_background": "light"
     },
     "output_type": "display_data"
    }
   ],
   "source": [
    "# 3x + 6y >= 24\n",
    "# 3x + y >= 9\n",
    "# 2x + 3y. Minimizar\n",
    "linearp()"
   ]
  },
  {
   "cell_type": "code",
   "execution_count": 232,
   "metadata": {},
   "outputs": [
    {
     "name": "stdout",
     "output_type": "stream",
     "text": [
      "[[0.47494519 0.75168731]\n",
      " [0.68892262 0.31789649]\n",
      " [0.44542481 0.32592617]\n",
      " [0.60533254 0.32117599]\n",
      " [0.50886708 0.53788744]\n",
      " [0.36208257 0.4805487 ]\n",
      " [0.63109789 0.39056875]\n",
      " [0.34596884 0.42595696]\n",
      " [0.61571634 0.64184258]\n",
      " [0.42596709 0.36643993]\n",
      " [0.44479722 0.56947756]\n",
      " [0.39863668 0.38392984]\n",
      " [0.35776248 0.51077031]\n",
      " [0.52757016 0.40448835]\n",
      " [0.42372302 0.35133808]\n",
      " [0.34508063 0.35897166]\n",
      " [0.69254262 0.60253   ]\n",
      " [0.54279083 0.33941981]\n",
      " [0.45276198 0.63978001]\n",
      " [0.51145656 0.45833252]\n",
      " [0.59484077 0.66359587]]\n"
     ]
    },
    {
     "data": {
      "text/plain": [
       "[<matplotlib.lines.Line2D at 0x7ff0879aa9d0>]"
      ]
     },
     "execution_count": 232,
     "metadata": {},
     "output_type": "execute_result"
    },
    {
     "data": {
      "image/png": "[encoded data removed]",
      "text/plain": [
       "<Figure size 432x288 with 1 Axes>"
      ]
     },
     "metadata": {
      "needs_background": "light"
     },
     "output_type": "display_data"
    }
   ],
   "source": [
    "from pylab import *\n",
    "from matplotlib.path import Path\n",
    "import matplotlib.patches as patches\n",
    "\n",
    "data = np.random.rand(100,4)\n",
    "\n",
    "verts = [(0.3, 0.8), (0.3, 0.3), (0.7, 0.3), (0.7, 0.7)]\n",
    "\n",
    "path1 = Path(verts)\n",
    "index = path1.contains_points(data[:,:2])\n",
    "\n",
    "print(data[index, :2])\n",
    "\n",
    "plot(data[:,0],data[:,1], 'b.')\n",
    "patch = patches.PathPatch(path1, facecolor='orange', lw=2)\n",
    "gca().add_patch(patch)\n",
    "plot(data[index,0], data[index,1], 'r.')\n"
   ]
  },
  {
   "cell_type": "code",
   "execution_count": null,
   "metadata": {},
   "outputs": [],
   "source": []
  }
 ],
 "metadata": {
  "kernelspec": {
   "display_name": "Python 3",
   "language": "python",
   "name": "python3"
  },
  "language_info": {
   "codemirror_mode": {
    "name": "ipython",
    "version": 3
   },
   "file_extension": ".py",
   "mimetype": "text/x-python",
   "name": "python",
   "nbconvert_exporter": "python",
   "pygments_lexer": "ipython3",
   "version": "3.8.5"
  }
 },
 "nbformat": 4,
 "nbformat_minor": 4
}
