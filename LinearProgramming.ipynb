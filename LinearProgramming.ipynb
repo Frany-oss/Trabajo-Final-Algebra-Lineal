{
 "cells": [
  {
   "cell_type": "code",
   "execution_count": 6,
   "metadata": {},
   "outputs": [],
   "source": [
    "from matplotlib import pyplot\n",
    "#2x+y\n",
    "# Data de ejemplo\n",
    "# f_obj = [2,1]\n",
    "# ineq = [[2,0],[3,1],[0,3],[0,1]]\n",
    "# ineq_s = [0,1,0,1]\n",
    "# ineq_r = [20,5,8,2]\n"
   ]
  },
  {
   "cell_type": "markdown",
   "metadata": {},
   "source": [
    "## Recopilar datos"
   ]
  },
  {
   "cell_type": "code",
   "execution_count": 18,
   "metadata": {},
   "outputs": [],
   "source": [
    "def extract_eq(eq_str):\n",
    "    \n",
    "    eq_str = eq_str.split()\n",
    "    #print(eq_str)\n",
    "    a = 0\n",
    "    b = 0\n",
    "    s = 0\n",
    "    r = 0\n",
    "    for i in range(len(eq_str)):\n",
    "        if \"x\" in eq_str[i]:\n",
    "            if eq_str[i]== \"x\":\n",
    "                a = 1\n",
    "            else:\n",
    "                a = int(eq_str[i][0:len(eq_str[i])-1])\n",
    "\n",
    "        if \"y\" in eq_str[i]:\n",
    "            if eq_str[i]== \"y\":\n",
    "                b = 1\n",
    "            else:\n",
    "                b = int(eq_str[i][0:len(eq_str[i])-1])\n",
    "\n",
    "        if \"<=\" in eq_str[i]:\n",
    "            s = 0\n",
    "\n",
    "        if \">=\" in eq_str[i]:\n",
    "            s = 1\n",
    "\n",
    "        if \"<=\" in eq_str[i] or \">=\" in eq_str[i]:\n",
    "            r = int(eq_str[i+1])\n",
    "            \n",
    "    print(\"extract: {}, {} ,{} ,{}\".format(a , b , s, r))\n",
    "    return a , b , s, r\n",
    "\n"
   ]
  },
  {
   "cell_type": "code",
   "execution_count": 19,
   "metadata": {},
   "outputs": [],
   "source": [
    "def input_data():\n",
    "    f_obj = []\n",
    "    ineq  = []\n",
    "    ineq_s = [] \n",
    "    ineq_r = []\n",
    "    obj_a = int(input(\"Según la funcion objetivo ax+by introduce a:\"))\n",
    "    obj_b = int(input(\"Según la funcion objetivo ax+by introduce b:\"))\n",
    "    f_obj = [obj_a,obj_b]\n",
    "    n = int(input(\"Cuantas inecuaciones desea ingresar [3,8]\"))\n",
    "    for i in range(n):\n",
    "        print(\"Inequacion Número {}:\".format(i+1))\n",
    "        \n",
    "        inequation = input(\"Ingrese inecuación: (Ej: 2x + 3y =< 4 o 10x + 2y >= 4)\")\n",
    "        \n",
    "        a , b , s ,r = extract_eq(inequation)\n",
    "        #print(\"Valores obtenidos:\")\n",
    "        #print(a,b,s,r)\n",
    "        ineq.append([a,b])\n",
    "        ineq_s.append(s)\n",
    "        ineq_r.append(r)\n",
    "        \n",
    "    return f_obj , ineq , ineq_s , ineq_r\n",
    "\n",
    "\n",
    "\n"
   ]
  },
  {
   "cell_type": "markdown",
   "metadata": {},
   "source": [
    "## Representar la inecuacion como un string según los datos recopilados"
   ]
  },
  {
   "cell_type": "code",
   "execution_count": 20,
   "metadata": {},
   "outputs": [],
   "source": [
    "#Según los datos recogidos te grafica el array\n",
    "def create_label(a , b , s , r):\n",
    "    print(a,b,s,r)\n",
    "    ineq_label = \"\" \n",
    "    \n",
    "    if a == 1:\n",
    "        ineq_label = ineq_label + \"x\"\n",
    "    elif a > 1:\n",
    "        ineq_label = ineq_label + \"{}x\".format(a)\n",
    "    if 0< a and 0 <b:\n",
    "        ineq_label = ineq_label + \" + \"\n",
    "    if b == 1:\n",
    "        ineq_label = ineq_label + \"y\"\n",
    "    elif b > 1: \n",
    "        ineq_label = ineq_label + \"{}y\".format(b)\n",
    "    \n",
    "    if s:\n",
    "        symbol = \" >= \"\n",
    "    else:\n",
    "        symbol = \" <= \"\n",
    "    \n",
    "    ineq_label += symbol\n",
    "    ineq_label += \"{}\".format(r)\n",
    "    \n",
    "        \n",
    "    return ineq_label"
   ]
  },
  {
   "cell_type": "markdown",
   "metadata": {},
   "source": [
    "## Dibujar inecaciones"
   ]
  },
  {
   "cell_type": "code",
   "execution_count": 21,
   "metadata": {},
   "outputs": [],
   "source": [
    "def graph_inec(ineq,ineq_r,ineq_s):\n",
    "    for i , r , s in zip(ineq,ineq_r,ineq_s):\n",
    "        l=10\n",
    "        #print(i,r)\n",
    "        x=i[0]\n",
    "        y=i[1]\n",
    "        if x != 0 and y!=0:\n",
    "            px= [r/x,0]\n",
    "            py = [0,r/y]\n",
    "        elif x!=0:\n",
    "            px= [r/x,r/x]\n",
    "            py = [0,l]\n",
    "        elif y != 0:\n",
    "            px = [0,l]\n",
    "            py = [r/y,r/y]\n",
    "            \n",
    "        \n",
    "        equation = create_label(i[0],i[1],s,r)\n",
    "        \n",
    "        pyplot.plot(px,py, label=equation)\n",
    "    pyplot.legend(bbox_to_anchor=(1.05, 1), loc='upper left', borderaxespad=0.)"
   ]
  },
  {
   "cell_type": "code",
   "execution_count": 23,
   "metadata": {},
   "outputs": [
    {
     "name": "stdin",
     "output_type": "stream",
     "text": [
      "Según la funcion objetivo ax+by introduce a: 2\n",
      "Según la funcion objetivo ax+by introduce b: 2\n",
      "Cuantas inecuaciones desea ingresar [3,8] 1\n"
     ]
    },
    {
     "name": "stdout",
     "output_type": "stream",
     "text": [
      "Inequacion Número 1:\n"
     ]
    },
    {
     "name": "stdin",
     "output_type": "stream",
     "text": [
      "Ingrese inecuación: (Ej: 2x + 3y =< 4 o 10x + 2y >= 4) y >= 2\n"
     ]
    },
    {
     "name": "stdout",
     "output_type": "stream",
     "text": [
      "['y', '>=', '2']\n",
      "extract: 0, 1 ,1 ,2\n",
      "Valores obtenidos:\n",
      "0 1 1 2\n",
      "0 1 1 2\n"
     ]
    },
    {
     "data": {
      "image/png": "[encoded data removed]",
      "text/plain": [
       "<Figure size 432x288 with 1 Axes>"
      ]
     },
     "metadata": {
      "needs_background": "light"
     },
     "output_type": "display_data"
    }
   ],
   "source": [
    "# Data de ejemplo\n",
    "# f_obj = [2,1]    2x + y\n",
    "\n",
    "# 2x <= 20\n",
    "# 3x + y >= 5\n",
    "# 3y <= 8\n",
    "# y >= 2\n",
    "\n",
    "\n",
    "# ineq = [[2,0],[3,1],[0,3],[0,1]]  \n",
    "# ineq_s = [0,1,0,1]\n",
    "# ineq_r = [20,5,8,2]\n",
    "\n",
    "f_obj , ineq , ineq_s ,ineq_r = input_data()\n",
    "\n",
    "graph_inec(ineq,ineq_r,ineq_s)"
   ]
  },
  {
   "cell_type": "code",
   "execution_count": 17,
   "metadata": {},
   "outputs": [
    {
     "name": "stdout",
     "output_type": "stream",
     "text": [
      "2 0 0 20\n",
      "3 1 1 5\n",
      "0 3 0 8\n",
      "0 1 1 2\n"
     ]
    },
    {
     "data": {
      "image/png": "[encoded data removed]",
      "text/plain": [
       "<Figure size 432x288 with 1 Axes>"
      ]
     },
     "metadata": {
      "needs_background": "light"
     },
     "output_type": "display_data"
    }
   ],
   "source": [
    "# ineq = [[2,0],[3,1],[0,3],[0,1]]  \n",
    "# ineq_s = [0,1,0,1]\n",
    "# ineq_r = [20,5,8,2]\n",
    "# graph_inec(ineq,ineq_r,ineq_s)"
   ]
  },
  {
   "cell_type": "markdown",
   "metadata": {},
   "source": [
    "## Encontrar puntos de intersección"
   ]
  },
  {
   "cell_type": "code",
   "execution_count": 24,
   "metadata": {},
   "outputs": [
    {
     "name": "stdout",
     "output_type": "stream",
     "text": [
      "2 2 0 20\n",
      "0 3 1 9\n"
     ]
    },
    {
     "data": {
      "image/png": "[encoded data removed]",
      "text/plain": [
       "<Figure size 432x288 with 1 Axes>"
      ]
     },
     "metadata": {
      "needs_background": "light"
     },
     "output_type": "display_data"
    }
   ],
   "source": [
    "i = [[2,2],[0,3]]\n",
    "ir = [20,9]\n",
    "s = [0,1]\n",
    "graph_inec(i,ir,s)"
   ]
  },
  {
   "cell_type": "code",
   "execution_count": 25,
   "metadata": {},
   "outputs": [],
   "source": [
    "def intersection(L1, L2, R1, R2):\n",
    "    D  = L1[0] * L2[1] - L1[1] * L2[0]\n",
    "    Dx = R1 * L2[1] - L1[1] * R2\n",
    "    Dy = L1[0] * R2 - R1 * L2[0]\n",
    "    if D != 0:\n",
    "        x = Dx / D\n",
    "        y = Dy / D\n",
    "        return x,y\n",
    "    else:\n",
    "        return False"
   ]
  },
  {
   "cell_type": "code",
   "execution_count": 27,
   "metadata": {},
   "outputs": [
    {
     "name": "stdout",
     "output_type": "stream",
     "text": [
      "2 2 0 20\n",
      "0 3 1 9\n"
     ]
    },
    {
     "data": {
      "text/plain": [
       "[<matplotlib.lines.Line2D at 0x7fa2078bbee0>]"
      ]
     },
     "execution_count": 27,
     "metadata": {},
     "output_type": "execute_result"
    },
    {
     "data": {
      "image/png": "[encoded data removed]",
      "text/plain": [
       "<Figure size 432x288 with 1 Axes>"
      ]
     },
     "metadata": {
      "needs_background": "light"
     },
     "output_type": "display_data"
    }
   ],
   "source": [
    "graph_inec(i,ir,s)\n",
    "R = intersection([2,2],[0,3],20,9)\n",
    "pyplot.plot(R[0],R[1],'ro')"
   ]
  },
  {
   "cell_type": "code",
   "execution_count": 73,
   "metadata": {},
   "outputs": [],
   "source": [
    "def graph_inter(ineq,ineq_r):\n",
    "    interX = []\n",
    "    interY = []\n",
    "    inter = []\n",
    "    for ine1 , r1 in zip(ineq,ineq_r):\n",
    "        for ine2 , r2 in zip(ineq,ineq_r):\n",
    "            R = intersection(ine1,ine2,r1,r2)\n",
    "            if R and R[0]>0 and R[1]>0:\n",
    "                if [R[1],R[0]] not in inter:\n",
    "                    interX.append(R[0])\n",
    "                    interY.append(R[1])\n",
    "                    inter.append([R[0],R[1]])\n",
    "    \n",
    "    pyplot.plot(interX,interY,'ro')\n",
    "    return interX,interY , inter"
   ]
  },
  {
   "cell_type": "code",
   "execution_count": 74,
   "metadata": {},
   "outputs": [
    {
     "name": "stdout",
     "output_type": "stream",
     "text": [
      "2 4 1 20\n",
      "3 0 0 5\n",
      "0 3 1 8\n",
      "0 1 40 2\n"
     ]
    },
    {
     "data": {
      "image/png": "[encoded data removed]",
      "text/plain": [
       "<Figure size 432x288 with 1 Axes>"
      ]
     },
     "metadata": {
      "needs_background": "light"
     },
     "output_type": "display_data"
    }
   ],
   "source": [
    "ineq = [[2,4],[3,0],[0,3],[0,1]]   \n",
    "ineq_r = [20,5,8,2]\n",
    "ineq_s = [1,0,1,40]\n",
    "interX,interY , inter = graph_inter(ineq,ineq_r)\n",
    "graph_inec(ineq,ineq_r,ineq_s)"
   ]
  },
  {
   "cell_type": "markdown",
   "metadata": {},
   "source": [
    "## TODO: \n",
    "- [x] Una función que le des la inecuación en texto ej: 2x+3y>=20 y te devuelva [2,3] [20] [0].**El =< , >= se representarían como [0,1]**\n",
    "- [x] Representar el menor igual y mayor igual (>= , <=) en las inecuaciones lineales\n",
    "- [ ] Determinar la region probando las intersecciónes en todas las inecuaciones. Si es falso esa intersección no pertenece a la región "
   ]
  },
  {
   "cell_type": "code",
   "execution_count": 86,
   "metadata": {},
   "outputs": [],
   "source": [
    "def comprobar_region(inter):\n",
    "    \n",
    "    \n",
    "    return"
   ]
  },
  {
   "cell_type": "code",
   "execution_count": 90,
   "metadata": {},
   "outputs": [
    {
     "data": {
      "text/plain": [
       "1.6666666666666667"
      ]
     },
     "execution_count": 90,
     "metadata": {},
     "output_type": "execute_result"
    }
   ],
   "source": [
    "inter[0][1]"
   ]
  },
  {
   "cell_type": "code",
   "execution_count": null,
   "metadata": {},
   "outputs": [],
   "source": []
  }
 ],
 "metadata": {
  "kernelspec": {
   "display_name": "Python 3",
   "language": "python",
   "name": "python3"
  },
  "language_info": {
   "codemirror_mode": {
    "name": "ipython",
    "version": 3
   },
   "file_extension": ".py",
   "mimetype": "text/x-python",
   "name": "python",
   "nbconvert_exporter": "python",
   "pygments_lexer": "ipython3",
   "version": "3.8.5"
  }
 },
 "nbformat": 4,
 "nbformat_minor": 4
}
