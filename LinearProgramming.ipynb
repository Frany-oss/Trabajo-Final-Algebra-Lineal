{
 "cells": [
  {
   "cell_type": "code",
   "execution_count": 1,
   "metadata": {},
   "outputs": [],
   "source": [
    "from matplotlib import pyplot\n",
    "#2x+y\n",
    "# Data de ejemplo\n",
    "# f_obj = [2,1]\n",
    "# ineq = [[2,0],[3,1],[0,3],[0,1]]\n",
    "# ineq_s = [0,1,0,1]\n",
    "# ineq_r = [20,5,8,2]\n"
   ]
  },
  {
   "cell_type": "markdown",
   "metadata": {},
   "source": [
    "## Recopilar datos"
   ]
  },
  {
   "cell_type": "code",
   "execution_count": 2,
   "metadata": {},
   "outputs": [],
   "source": [
    "def extract_eq(eq_str):\n",
    "    \n",
    "    eq_str = eq_str.split()\n",
    "    #print(eq_str)\n",
    "    a = 0\n",
    "    b = 0\n",
    "    s = 0\n",
    "    r = 0\n",
    "    for i in range(len(eq_str)):\n",
    "        if \"x\" in eq_str[i]:\n",
    "            if eq_str[i]== \"x\":\n",
    "                a = 1\n",
    "            else:\n",
    "                a = int(eq_str[i][0:len(eq_str[i])-1])\n",
    "\n",
    "        if \"y\" in eq_str[i]:\n",
    "            if eq_str[i]== \"y\":\n",
    "                b = 1\n",
    "            else:\n",
    "                b = int(eq_str[i][0:len(eq_str[i])-1])\n",
    "\n",
    "        if \"<=\" in eq_str[i]:\n",
    "            s = 0\n",
    "\n",
    "        if \">=\" in eq_str[i]:\n",
    "            s = 1\n",
    "\n",
    "        if \"<=\" in eq_str[i] or \">=\" in eq_str[i]:\n",
    "            r = int(eq_str[i+1])\n",
    "            \n",
    "    print(\"extract: {}, {} ,{} ,{}\".format(a , b , s, r))\n",
    "    return a , b , s, r\n",
    "\n"
   ]
  },
  {
   "cell_type": "code",
   "execution_count": 3,
   "metadata": {},
   "outputs": [],
   "source": [
    "def input_data():\n",
    "    f_obj = []\n",
    "    ineq  = []\n",
    "    ineq_s = [] \n",
    "    ineq_r = []\n",
    "    obj_a = int(input(\"Según la funcion objetivo ax+by introduce a:\"))\n",
    "    obj_b = int(input(\"Según la funcion objetivo ax+by introduce b:\"))\n",
    "    f_obj = [obj_a,obj_b]\n",
    "    n = int(input(\"Cuantas inecuaciones desea ingresar [3,8]\"))\n",
    "    for i in range(n):\n",
    "        print(\"Inequacion Número {}:\".format(i+1))\n",
    "        \n",
    "        inequation = input(\"Ingrese inecuación: (Ej: 2x + 3y <= 4 o 10x + 2y >= 4)\")\n",
    "        \n",
    "        a , b , s ,r = extract_eq(inequation)\n",
    "        #print(\"Valores obtenidos:\")\n",
    "        #print(a,b,s,r)\n",
    "        ineq.append([a,b])\n",
    "        ineq_s.append(s)\n",
    "        ineq_r.append(r)\n",
    "        \n",
    "    return f_obj , ineq , ineq_s , ineq_r\n",
    "\n",
    "\n",
    "\n"
   ]
  },
  {
   "cell_type": "markdown",
   "metadata": {},
   "source": [
    "## Representar la inecuacion como un string según los datos recopilados"
   ]
  },
  {
   "cell_type": "code",
   "execution_count": 4,
   "metadata": {},
   "outputs": [],
   "source": [
    "#Según los datos recogidos te grafica el array\n",
    "def create_label(a , b , s , r):\n",
    "    print(a,b,s,r)\n",
    "    ineq_label = \"\" \n",
    "    \n",
    "    if a == 1:\n",
    "        ineq_label = ineq_label + \"x\"\n",
    "    elif a > 1:\n",
    "        ineq_label = ineq_label + \"{}x\".format(a)\n",
    "    if 0< a and 0 <b:\n",
    "        ineq_label = ineq_label + \" + \"\n",
    "    if b == 1:\n",
    "        ineq_label = ineq_label + \"y\"\n",
    "    elif b > 1: \n",
    "        ineq_label = ineq_label + \"{}y\".format(b)\n",
    "    \n",
    "    if s:\n",
    "        symbol = \" >= \"\n",
    "    else:\n",
    "        symbol = \" <= \"\n",
    "    \n",
    "    ineq_label += symbol\n",
    "    ineq_label += \"{}\".format(r)\n",
    "    \n",
    "        \n",
    "    return ineq_label"
   ]
  },
  {
   "cell_type": "markdown",
   "metadata": {},
   "source": [
    "## Dibujar inecaciones"
   ]
  },
  {
   "cell_type": "code",
   "execution_count": 5,
   "metadata": {},
   "outputs": [],
   "source": [
    "def graph_inec(ineq,ineq_r,ineq_s):\n",
    "    for i , r , s in zip(ineq,ineq_r,ineq_s):\n",
    "        l=10\n",
    "        #print(i,r)\n",
    "        x=i[0]\n",
    "        y=i[1]\n",
    "        if x != 0 and y!=0:\n",
    "            px= [r/x,0]\n",
    "            py = [0,r/y]\n",
    "        elif x!=0:\n",
    "            px= [r/x,r/x]\n",
    "            py = [0,l]\n",
    "        elif y != 0:\n",
    "            px = [0,l]\n",
    "            py = [r/y,r/y]\n",
    "            \n",
    "        \n",
    "        equation = create_label(i[0],i[1],s,r)\n",
    "        \n",
    "        pyplot.plot(px,py, label=equation)\n",
    "    pyplot.legend(bbox_to_anchor=(1.05, 1), loc='upper left', borderaxespad=0.)"
   ]
  },
  {
   "cell_type": "code",
   "execution_count": 6,
   "metadata": {},
   "outputs": [
    {
     "ename": "KeyboardInterrupt",
     "evalue": "Interrupted by user",
     "output_type": "error",
     "traceback": [
      "\u001b[0;31m---------------------------------------------------------------------------\u001b[0m",
      "\u001b[0;31mKeyboardInterrupt\u001b[0m                         Traceback (most recent call last)",
      "\u001b[0;32m<ipython-input-6-ea63aeccc95a>\u001b[0m in \u001b[0;36m<module>\u001b[0;34m\u001b[0m\n\u001b[1;32m     12\u001b[0m \u001b[0;31m# ineq_r = [20,5,8,2]\u001b[0m\u001b[0;34m\u001b[0m\u001b[0;34m\u001b[0m\u001b[0;34m\u001b[0m\u001b[0m\n\u001b[1;32m     13\u001b[0m \u001b[0;34m\u001b[0m\u001b[0m\n\u001b[0;32m---> 14\u001b[0;31m \u001b[0mf_obj\u001b[0m \u001b[0;34m,\u001b[0m \u001b[0mineq\u001b[0m \u001b[0;34m,\u001b[0m \u001b[0mineq_s\u001b[0m \u001b[0;34m,\u001b[0m\u001b[0mineq_r\u001b[0m \u001b[0;34m=\u001b[0m \u001b[0minput_data\u001b[0m\u001b[0;34m(\u001b[0m\u001b[0;34m)\u001b[0m\u001b[0;34m\u001b[0m\u001b[0;34m\u001b[0m\u001b[0m\n\u001b[0m\u001b[1;32m     15\u001b[0m \u001b[0;34m\u001b[0m\u001b[0m\n\u001b[1;32m     16\u001b[0m \u001b[0;34m\u001b[0m\u001b[0m\n",
      "\u001b[0;32m<ipython-input-3-1fb43bf1f74f>\u001b[0m in \u001b[0;36minput_data\u001b[0;34m()\u001b[0m\n\u001b[1;32m      4\u001b[0m     \u001b[0mineq_s\u001b[0m \u001b[0;34m=\u001b[0m \u001b[0;34m[\u001b[0m\u001b[0;34m]\u001b[0m\u001b[0;34m\u001b[0m\u001b[0;34m\u001b[0m\u001b[0m\n\u001b[1;32m      5\u001b[0m     \u001b[0mineq_r\u001b[0m \u001b[0;34m=\u001b[0m \u001b[0;34m[\u001b[0m\u001b[0;34m]\u001b[0m\u001b[0;34m\u001b[0m\u001b[0;34m\u001b[0m\u001b[0m\n\u001b[0;32m----> 6\u001b[0;31m     \u001b[0mobj_a\u001b[0m \u001b[0;34m=\u001b[0m \u001b[0mint\u001b[0m\u001b[0;34m(\u001b[0m\u001b[0minput\u001b[0m\u001b[0;34m(\u001b[0m\u001b[0;34m\"Según la funcion objetivo ax+by introduce a:\"\u001b[0m\u001b[0;34m)\u001b[0m\u001b[0;34m)\u001b[0m\u001b[0;34m\u001b[0m\u001b[0;34m\u001b[0m\u001b[0m\n\u001b[0m\u001b[1;32m      7\u001b[0m     \u001b[0mobj_b\u001b[0m \u001b[0;34m=\u001b[0m \u001b[0mint\u001b[0m\u001b[0;34m(\u001b[0m\u001b[0minput\u001b[0m\u001b[0;34m(\u001b[0m\u001b[0;34m\"Según la funcion objetivo ax+by introduce b:\"\u001b[0m\u001b[0;34m)\u001b[0m\u001b[0;34m)\u001b[0m\u001b[0;34m\u001b[0m\u001b[0;34m\u001b[0m\u001b[0m\n\u001b[1;32m      8\u001b[0m     \u001b[0mf_obj\u001b[0m \u001b[0;34m=\u001b[0m \u001b[0;34m[\u001b[0m\u001b[0mobj_a\u001b[0m\u001b[0;34m,\u001b[0m\u001b[0mobj_b\u001b[0m\u001b[0;34m]\u001b[0m\u001b[0;34m\u001b[0m\u001b[0;34m\u001b[0m\u001b[0m\n",
      "\u001b[0;32m/Library/Frameworks/Python.framework/Versions/3.9/lib/python3.9/site-packages/ipykernel/kernelbase.py\u001b[0m in \u001b[0;36mraw_input\u001b[0;34m(self, prompt)\u001b[0m\n\u001b[1;32m    858\u001b[0m                 \u001b[0;34m\"raw_input was called, but this frontend does not support input requests.\"\u001b[0m\u001b[0;34m\u001b[0m\u001b[0;34m\u001b[0m\u001b[0m\n\u001b[1;32m    859\u001b[0m             )\n\u001b[0;32m--> 860\u001b[0;31m         return self._input_request(str(prompt),\n\u001b[0m\u001b[1;32m    861\u001b[0m             \u001b[0mself\u001b[0m\u001b[0;34m.\u001b[0m\u001b[0m_parent_ident\u001b[0m\u001b[0;34m,\u001b[0m\u001b[0;34m\u001b[0m\u001b[0;34m\u001b[0m\u001b[0m\n\u001b[1;32m    862\u001b[0m             \u001b[0mself\u001b[0m\u001b[0;34m.\u001b[0m\u001b[0m_parent_header\u001b[0m\u001b[0;34m,\u001b[0m\u001b[0;34m\u001b[0m\u001b[0;34m\u001b[0m\u001b[0m\n",
      "\u001b[0;32m/Library/Frameworks/Python.framework/Versions/3.9/lib/python3.9/site-packages/ipykernel/kernelbase.py\u001b[0m in \u001b[0;36m_input_request\u001b[0;34m(self, prompt, ident, parent, password)\u001b[0m\n\u001b[1;32m    902\u001b[0m             \u001b[0;32mexcept\u001b[0m \u001b[0mKeyboardInterrupt\u001b[0m\u001b[0;34m:\u001b[0m\u001b[0;34m\u001b[0m\u001b[0;34m\u001b[0m\u001b[0m\n\u001b[1;32m    903\u001b[0m                 \u001b[0;31m# re-raise KeyboardInterrupt, to truncate traceback\u001b[0m\u001b[0;34m\u001b[0m\u001b[0;34m\u001b[0m\u001b[0;34m\u001b[0m\u001b[0m\n\u001b[0;32m--> 904\u001b[0;31m                 \u001b[0;32mraise\u001b[0m \u001b[0mKeyboardInterrupt\u001b[0m\u001b[0;34m(\u001b[0m\u001b[0;34m\"Interrupted by user\"\u001b[0m\u001b[0;34m)\u001b[0m \u001b[0;32mfrom\u001b[0m \u001b[0;32mNone\u001b[0m\u001b[0;34m\u001b[0m\u001b[0;34m\u001b[0m\u001b[0m\n\u001b[0m\u001b[1;32m    905\u001b[0m             \u001b[0;32mexcept\u001b[0m \u001b[0mException\u001b[0m \u001b[0;32mas\u001b[0m \u001b[0me\u001b[0m\u001b[0;34m:\u001b[0m\u001b[0;34m\u001b[0m\u001b[0;34m\u001b[0m\u001b[0m\n\u001b[1;32m    906\u001b[0m                 \u001b[0mself\u001b[0m\u001b[0;34m.\u001b[0m\u001b[0mlog\u001b[0m\u001b[0;34m.\u001b[0m\u001b[0mwarning\u001b[0m\u001b[0;34m(\u001b[0m\u001b[0;34m\"Invalid Message:\"\u001b[0m\u001b[0;34m,\u001b[0m \u001b[0mexc_info\u001b[0m\u001b[0;34m=\u001b[0m\u001b[0;32mTrue\u001b[0m\u001b[0;34m)\u001b[0m\u001b[0;34m\u001b[0m\u001b[0;34m\u001b[0m\u001b[0m\n",
      "\u001b[0;31mKeyboardInterrupt\u001b[0m: Interrupted by user"
     ]
    }
   ],
   "source": [
    "# Data de ejemplo\n",
    "# f_obj = [2,1]    2x + y\n",
    "\n",
    "# 2x <= 20\n",
    "# 3x + y >= 5\n",
    "# 3y <= 8\n",
    "# y >= 2\n",
    "\n",
    "\n",
    "# ineq = [[2,0],[3,1],[0,3],[0,1]]  \n",
    "# ineq_s = [0,1,0,1]\n",
    "# ineq_r = [20,5,8,2]\n",
    "\n",
    "f_obj , ineq , ineq_s ,ineq_r = input_data()\n",
    "\n",
    "\n",
    "graph_inec(ineq,ineq_r,ineq_s)"
   ]
  },
  {
   "cell_type": "code",
   "execution_count": 7,
   "metadata": {},
   "outputs": [],
   "source": [
    "# ineq = [[2,0],[3,1],[0,3],[0,1]]  \n",
    "# ineq_s = [0,1,0,1]\n",
    "# ineq_r = [20,5,8,2]\n",
    "# graph_inec(ineq,ineq_r,ineq_s)"
   ]
  },
  {
   "cell_type": "markdown",
   "metadata": {},
   "source": [
    "## Encontrar puntos de intersección"
   ]
  },
  {
   "cell_type": "code",
   "execution_count": 8,
   "metadata": {},
   "outputs": [
    {
     "name": "stdout",
     "output_type": "stream",
     "text": [
      "2 2 0 20\n",
      "0 3 1 9\n"
     ]
    },
    {
     "data": {
      "image/png": "[encoded data removed]",
      "text/plain": [
       "<Figure size 432x288 with 1 Axes>"
      ]
     },
     "metadata": {
      "needs_background": "light"
     },
     "output_type": "display_data"
    }
   ],
   "source": [
    "i = [[2,2],[0,3]]\n",
    "ir = [20,9]\n",
    "s = [0,1]\n",
    "graph_inec(i,ir,s)"
   ]
  },
  {
   "cell_type": "code",
   "execution_count": 9,
   "metadata": {},
   "outputs": [],
   "source": [
    "def intersection(L1, L2, R1, R2):\n",
    "    D  = L1[0] * L2[1] - L1[1] * L2[0]\n",
    "    Dx = R1 * L2[1] - L1[1] * R2\n",
    "    Dy = L1[0] * R2 - R1 * L2[0]\n",
    "    if D != 0:\n",
    "        x = Dx / D\n",
    "        y = Dy / D\n",
    "        return x,y\n",
    "    else:\n",
    "        return False"
   ]
  },
  {
   "cell_type": "code",
   "execution_count": 10,
   "metadata": {},
   "outputs": [
    {
     "name": "stdout",
     "output_type": "stream",
     "text": [
      "2 2 0 20\n",
      "0 3 1 9\n"
     ]
    },
    {
     "data": {
      "text/plain": [
       "[<matplotlib.lines.Line2D at 0x7fed091a53d0>]"
      ]
     },
     "execution_count": 10,
     "metadata": {},
     "output_type": "execute_result"
    },
    {
     "data": {
      "image/png": "[encoded data removed]",
      "text/plain": [
       "<Figure size 432x288 with 1 Axes>"
      ]
     },
     "metadata": {
      "needs_background": "light"
     },
     "output_type": "display_data"
    }
   ],
   "source": [
    "graph_inec(i,ir,s)\n",
    "R = intersection([2,2],[0,3],20,9)\n",
    "pyplot.plot(R[0],R[1],'ro')"
   ]
  },
  {
   "cell_type": "code",
   "execution_count": 11,
   "metadata": {},
   "outputs": [],
   "source": [
    "def graph_inter(ineq,ineq_r):\n",
    "    interX = []\n",
    "    interY = []\n",
    "    inter = []\n",
    "    for ine1 , r1 in zip(ineq,ineq_r):\n",
    "        for ine2 , r2 in zip(ineq,ineq_r):\n",
    "            R = intersection(ine1,ine2,r1,r2)\n",
    "            if R and R[0]>0 and R[1]>0:\n",
    "                if [R[0],R[1]] not in inter:\n",
    "                    interX.append(R[0])\n",
    "                    interY.append(R[1])\n",
    "                    inter.append([R[0],R[1]])\n",
    "    for ine1 , r1 in zip(ineq,ineq_r):\n",
    "#         print(ine1,r1)\n",
    "        if ine1[0] != 0:\n",
    "            interX.append(r1/ine1[0])\n",
    "            interY.append(0)\n",
    "            inter.append([r1/ine1[0],0])\n",
    "        if ine1[1] != 0:\n",
    "            interY.append(r1/ine1[1])\n",
    "            interX.append(0)\n",
    "            inter.append([0,r1/ine1[1]])\n",
    "    \n",
    "    interX.append(0)\n",
    "    interY.append(0)\n",
    "    inter.append([0,0])\n",
    "    pyplot.plot(interX,interY,'ro')\n",
    "    return interX,interY , inter"
   ]
  },
  {
   "cell_type": "code",
   "execution_count": 12,
   "metadata": {},
   "outputs": [
    {
     "name": "stdout",
     "output_type": "stream",
     "text": [
      "5 4 0 27000\n",
      "5 15 0 43200\n"
     ]
    },
    {
     "data": {
      "image/png": "[encoded data removed]",
      "text/plain": [
       "<Figure size 432x288 with 1 Axes>"
      ]
     },
     "metadata": {
      "needs_background": "light"
     },
     "output_type": "display_data"
    }
   ],
   "source": [
    "# ineq = [[2,4],[3,0],[0,3],[0,1]]   \n",
    "# ineq_r = [20,5,8,2]\n",
    "# ineq_s = [1,0,1,1]\n",
    "\n",
    "\n",
    "# ineq = [[1,1],[3,4]]   \n",
    "# ineq_r = [20,72]\n",
    "# ineq_s = [0,0]\n",
    "\n",
    "ineq = [[5,4],[5,15]]   \n",
    "ineq_r = [27000,43200]\n",
    "ineq_s = [0,0]\n",
    "\n",
    "interX,interY , inter = graph_inter(ineq,ineq_r)\n",
    "graph_inec(ineq,ineq_r,ineq_s)"
   ]
  },
  {
   "cell_type": "code",
   "execution_count": 13,
   "metadata": {},
   "outputs": [
    {
     "data": {
      "text/plain": [
       "[[4221.818181818182, 1472.7272727272727],\n",
       " [5400.0, 0],\n",
       " [0, 6750.0],\n",
       " [8640.0, 0],\n",
       " [0, 2880.0],\n",
       " [0, 0]]"
      ]
     },
     "execution_count": 13,
     "metadata": {},
     "output_type": "execute_result"
    }
   ],
   "source": [
    "inter"
   ]
  },
  {
   "cell_type": "markdown",
   "metadata": {},
   "source": [
    "## TODO: \n",
    "- [x] Una función que le des la inecuación en texto ej: 2x+3y>=20 y te devuelva [2,3] [20] [0].**El =< , >= se representarían como [0,1]**\n",
    "- [x] Representar el menor igual y mayor igual (>= , <=) en las inecuaciones lineales\n",
    "- [x] Determinar la region probando las intersecciónes en todas las inecuaciones. Si es falso esa intersección no pertenece a la región "
   ]
  },
  {
   "cell_type": "code",
   "execution_count": 14,
   "metadata": {},
   "outputs": [],
   "source": [
    "def comprobar_region(ineq,ineq_r,ineq_s,inter):\n",
    "    interR = []\n",
    "    for i in inter:\n",
    "        valido = True\n",
    "        for ine,r,s in zip(ineq,ineq_r,ineq_s):\n",
    "            p = int((ine[0]*i[0]) + (ine[1]*i[1]))\n",
    "            #print(p)\n",
    "            if s == 0:\n",
    "                if p <= r:\n",
    "                    pass\n",
    "                else:\n",
    "                    print(p,\" \",r)\n",
    "                    valido = False\n",
    "            if s == 1:\n",
    "                if p >=r:\n",
    "                    pass\n",
    "                else:\n",
    "                    valido =False\n",
    "                    print(p,\" \",r,\">=\")\n",
    "                \n",
    "        if valido:\n",
    "            interR.append([int(i[0]),int(i[1])])\n",
    "            #interR.append([int(i[0]),int([1])])\n",
    "    \n",
    "    \n",
    "    return interR"
   ]
  },
  {
   "cell_type": "code",
   "execution_count": 15,
   "metadata": {},
   "outputs": [
    {
     "data": {
      "text/plain": [
       "[[4221.818181818182, 1472.7272727272727],\n",
       " [5400.0, 0],\n",
       " [0, 6750.0],\n",
       " [8640.0, 0],\n",
       " [0, 2880.0],\n",
       " [0, 0]]"
      ]
     },
     "execution_count": 15,
     "metadata": {},
     "output_type": "execute_result"
    }
   ],
   "source": [
    "inter"
   ]
  },
  {
   "cell_type": "code",
   "execution_count": 16,
   "metadata": {},
   "outputs": [
    {
     "name": "stdout",
     "output_type": "stream",
     "text": [
      "101250   43200\n",
      "43200   27000\n"
     ]
    }
   ],
   "source": [
    "inter = comprobar_region(ineq,ineq_r,ineq_s,inter)"
   ]
  },
  {
   "cell_type": "code",
   "execution_count": 17,
   "metadata": {},
   "outputs": [
    {
     "data": {
      "text/plain": [
       "[[4221, 1472], [5400, 0], [0, 2880], [0, 0]]"
      ]
     },
     "execution_count": 17,
     "metadata": {},
     "output_type": "execute_result"
    }
   ],
   "source": [
    "inter"
   ]
  },
  {
   "cell_type": "code",
   "execution_count": 24,
   "metadata": {},
   "outputs": [],
   "source": [
    "def max_obj(obj,inter):\n",
    "    maximo = 0\n",
    "    for i in inter:\n",
    "        m = obj[0]*i[0] + obj[1]*i[1]\n",
    "        if m> maximo:\n",
    "            maximo = m\n",
    "            intersect = [i[0],i[1]]\n",
    "    return maximo,intersect\n",
    "def min_obj(obj,inter):\n",
    "    minimo = 100000000\n",
    "    for i in inter:\n",
    "        m = obj[0]*i[0] + obj[1]*i[1]\n",
    "        if m< minimo:\n",
    "            minimo = m\n",
    "            intersect = [i[0],i[1]]\n",
    "    return minimo,intersect\n",
    "        \n",
    "    "
   ]
  },
  {
   "cell_type": "code",
   "execution_count": 19,
   "metadata": {},
   "outputs": [],
   "source": [
    "m, i = min_obj([20,18],inter)"
   ]
  },
  {
   "cell_type": "code",
   "execution_count": 20,
   "metadata": {},
   "outputs": [
    {
     "data": {
      "text/plain": [
       "(0, [0, 0])"
      ]
     },
     "execution_count": 20,
     "metadata": {},
     "output_type": "execute_result"
    }
   ],
   "source": [
    "m,i"
   ]
  },
  {
   "cell_type": "code",
   "execution_count": 21,
   "metadata": {},
   "outputs": [],
   "source": [
    "def linearp():\n",
    "    f_obj , ineq , ineq_s ,ineq_r = input_data()\n",
    "    graph_inec(ineq,ineq_r,ineq_s)\n",
    "    interX,interY , inter = graph_inter(ineq,ineq_r)\n",
    "    inter = comprobar_region(ineq,ineq_r,ineq_s,inter)\n",
    "    max_obj, max_coord = min_obj(f_obj,inter)\n",
    "    min_obj, min_coord = max_obj(f_obj,inter)\n",
    "    pyplot.title(\"Gráfica de las indecuaciones\")\n",
    "    return max_obj,max_coord, min_obj,min_coord\n",
    "    \n",
    "    "
   ]
  },
  {
   "cell_type": "code",
   "execution_count": 23,
   "metadata": {},
   "outputs": [
    {
     "name": "stdin",
     "output_type": "stream",
     "text": [
      "Según la funcion objetivo ax+by introduce a: 80\n",
      "Según la funcion objetivo ax+by introduce b: 120\n",
      "Cuantas inecuaciones desea ingresar [3,8] 2\n"
     ]
    },
    {
     "name": "stdout",
     "output_type": "stream",
     "text": [
      "Inequacion Número 1:\n"
     ]
    },
    {
     "name": "stdin",
     "output_type": "stream",
     "text": [
      "Ingrese inecuación: (Ej: 2x + 3y <= 4 o 10x + 2y >= 4) x + y <= 80\n"
     ]
    },
    {
     "name": "stdout",
     "output_type": "stream",
     "text": [
      "extract: 1, 1 ,0 ,80\n",
      "Inequacion Número 2:\n"
     ]
    },
    {
     "name": "stdin",
     "output_type": "stream",
     "text": [
      "Ingrese inecuación: (Ej: 2x + 3y <= 4 o 10x + 2y >= 4) 2x + 6y <= 240\n"
     ]
    },
    {
     "name": "stdout",
     "output_type": "stream",
     "text": [
      "extract: 2, 6 ,0 ,240\n",
      "1 1 0 80\n",
      "2 6 0 240\n",
      "480   240\n",
      "120   80\n"
     ]
    },
    {
     "ename": "UnboundLocalError",
     "evalue": "local variable 'min_obj' referenced before assignment",
     "output_type": "error",
     "traceback": [
      "\u001b[0;31m---------------------------------------------------------------------------\u001b[0m",
      "\u001b[0;31mUnboundLocalError\u001b[0m                         Traceback (most recent call last)",
      "\u001b[0;32m<ipython-input-23-28eb4ce98fb4>\u001b[0m in \u001b[0;36m<module>\u001b[0;34m\u001b[0m\n\u001b[1;32m      2\u001b[0m \u001b[0;31m# 3x + y >= 9\u001b[0m\u001b[0;34m\u001b[0m\u001b[0;34m\u001b[0m\u001b[0;34m\u001b[0m\u001b[0m\n\u001b[1;32m      3\u001b[0m \u001b[0;31m# 2x + 3y. Minimizar\u001b[0m\u001b[0;34m\u001b[0m\u001b[0;34m\u001b[0m\u001b[0;34m\u001b[0m\u001b[0m\n\u001b[0;32m----> 4\u001b[0;31m \u001b[0mlinearp\u001b[0m\u001b[0;34m(\u001b[0m\u001b[0;34m)\u001b[0m\u001b[0;34m\u001b[0m\u001b[0;34m\u001b[0m\u001b[0m\n\u001b[0m",
      "\u001b[0;32m<ipython-input-21-aa98e949ff7e>\u001b[0m in \u001b[0;36mlinearp\u001b[0;34m()\u001b[0m\n\u001b[1;32m      4\u001b[0m     \u001b[0minterX\u001b[0m\u001b[0;34m,\u001b[0m\u001b[0minterY\u001b[0m \u001b[0;34m,\u001b[0m \u001b[0minter\u001b[0m \u001b[0;34m=\u001b[0m \u001b[0mgraph_inter\u001b[0m\u001b[0;34m(\u001b[0m\u001b[0mineq\u001b[0m\u001b[0;34m,\u001b[0m\u001b[0mineq_r\u001b[0m\u001b[0;34m)\u001b[0m\u001b[0;34m\u001b[0m\u001b[0;34m\u001b[0m\u001b[0m\n\u001b[1;32m      5\u001b[0m     \u001b[0minter\u001b[0m \u001b[0;34m=\u001b[0m \u001b[0mcomprobar_region\u001b[0m\u001b[0;34m(\u001b[0m\u001b[0mineq\u001b[0m\u001b[0;34m,\u001b[0m\u001b[0mineq_r\u001b[0m\u001b[0;34m,\u001b[0m\u001b[0mineq_s\u001b[0m\u001b[0;34m,\u001b[0m\u001b[0minter\u001b[0m\u001b[0;34m)\u001b[0m\u001b[0;34m\u001b[0m\u001b[0;34m\u001b[0m\u001b[0m\n\u001b[0;32m----> 6\u001b[0;31m     \u001b[0mmax_obj\u001b[0m\u001b[0;34m,\u001b[0m \u001b[0mmax_coord\u001b[0m \u001b[0;34m=\u001b[0m \u001b[0mmin_obj\u001b[0m\u001b[0;34m(\u001b[0m\u001b[0mf_obj\u001b[0m\u001b[0;34m,\u001b[0m\u001b[0minter\u001b[0m\u001b[0;34m)\u001b[0m\u001b[0;34m\u001b[0m\u001b[0;34m\u001b[0m\u001b[0m\n\u001b[0m\u001b[1;32m      7\u001b[0m     \u001b[0mmin_obj\u001b[0m\u001b[0;34m,\u001b[0m \u001b[0mmin_coord\u001b[0m \u001b[0;34m=\u001b[0m \u001b[0mmax_obj\u001b[0m\u001b[0;34m(\u001b[0m\u001b[0mf_obj\u001b[0m\u001b[0;34m,\u001b[0m\u001b[0minter\u001b[0m\u001b[0;34m)\u001b[0m\u001b[0;34m\u001b[0m\u001b[0;34m\u001b[0m\u001b[0m\n\u001b[1;32m      8\u001b[0m     \u001b[0mpyplot\u001b[0m\u001b[0;34m.\u001b[0m\u001b[0mtitle\u001b[0m\u001b[0;34m(\u001b[0m\u001b[0;34m\"Gráfica de las indecuaciones\"\u001b[0m\u001b[0;34m)\u001b[0m\u001b[0;34m\u001b[0m\u001b[0;34m\u001b[0m\u001b[0m\n",
      "\u001b[0;31mUnboundLocalError\u001b[0m: local variable 'min_obj' referenced before assignment"
     ]
    },
    {
     "data": {
      "image/png": "[encoded data removed]",
      "text/plain": [
       "<Figure size 432x288 with 1 Axes>"
      ]
     },
     "metadata": {
      "needs_background": "light"
     },
     "output_type": "display_data"
    }
   ],
   "source": [
    "# 3x + 6y >= 24\n",
    "# 3x + y >= 9\n",
    "# 2x + 3y. Minimizar\n",
    "linearp()"
   ]
  },
  {
   "cell_type": "code",
   "execution_count": 232,
   "metadata": {},
   "outputs": [
    {
     "name": "stdout",
     "output_type": "stream",
     "text": [
      "[[0.47494519 0.75168731]\n",
      " [0.68892262 0.31789649]\n",
      " [0.44542481 0.32592617]\n",
      " [0.60533254 0.32117599]\n",
      " [0.50886708 0.53788744]\n",
      " [0.36208257 0.4805487 ]\n",
      " [0.63109789 0.39056875]\n",
      " [0.34596884 0.42595696]\n",
      " [0.61571634 0.64184258]\n",
      " [0.42596709 0.36643993]\n",
      " [0.44479722 0.56947756]\n",
      " [0.39863668 0.38392984]\n",
      " [0.35776248 0.51077031]\n",
      " [0.52757016 0.40448835]\n",
      " [0.42372302 0.35133808]\n",
      " [0.34508063 0.35897166]\n",
      " [0.69254262 0.60253   ]\n",
      " [0.54279083 0.33941981]\n",
      " [0.45276198 0.63978001]\n",
      " [0.51145656 0.45833252]\n",
      " [0.59484077 0.66359587]]\n"
     ]
    },
    {
     "data": {
      "text/plain": [
       "[<matplotlib.lines.Line2D at 0x7ff0879aa9d0>]"
      ]
     },
     "execution_count": 232,
     "metadata": {},
     "output_type": "execute_result"
    },
    {
     "data": {
      "image/png": "[encoded data removed]",
      "text/plain": [
       "<Figure size 432x288 with 1 Axes>"
      ]
     },
     "metadata": {
      "needs_background": "light"
     },
     "output_type": "display_data"
    }
   ],
   "source": [
    "from pylab import *\n",
    "from matplotlib.path import Path\n",
    "import matplotlib.patches as patches\n",
    "\n",
    "data = np.random.rand(100,4)\n",
    "\n",
    "verts = [(0.3, 0.8), (0.3, 0.3), (0.7, 0.3), (0.7, 0.7)]\n",
    "\n",
    "path1 = Path(verts)\n",
    "index = path1.contains_points(data[:,:2])\n",
    "\n",
    "print(data[index, :2])\n",
    "\n",
    "plot(data[:,0],data[:,1], 'b.')\n",
    "patch = patches.PathPatch(path1, facecolor='orange', lw=2)\n",
    "gca().add_patch(patch)\n",
    "plot(data[index,0], data[index,1], 'r.')\n"
   ]
  },
  {
   "cell_type": "code",
   "execution_count": null,
   "metadata": {},
   "outputs": [],
   "source": []
  }
 ],
 "metadata": {
  "kernelspec": {
   "display_name": "Python 3",
   "language": "python",
   "name": "python3"
  },
  "language_info": {
   "codemirror_mode": {
    "name": "ipython",
    "version": 3
   },
   "file_extension": ".py",
   "mimetype": "text/x-python",
   "name": "python",
   "nbconvert_exporter": "python",
   "pygments_lexer": "ipython3",
   "version": "3.9.0"
  }
 },
 "nbformat": 4,
 "nbformat_minor": 4
}
